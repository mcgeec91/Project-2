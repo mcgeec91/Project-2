{
 "cells": [
  {
   "cell_type": "code",
   "execution_count": 1,
   "metadata": {},
   "outputs": [],
   "source": [
    "import pandas as pd\n",
    "from sqlalchemy import create_engine"
   ]
  },
  {
   "cell_type": "code",
   "execution_count": 14,
   "metadata": {},
   "outputs": [
    {
     "data": {
      "text/plain": [
       "array([nan, 'Olives, onions, capers, tomatoes', 'Choose a pizza size.',\n",
       "       ...,\n",
       "       'Pepperoni, Canadian bacon, beef, sausage, mushrooms, onions, green peppers, red bell peppers, black olives, green olives and fresh tomatoes.',\n",
       "       'Extra sauce, extra mozzarella cheese and extra pepperoni.',\n",
       "       'ricotta, mozzarella, spinach, garlic, tomatoes'], dtype=object)"
      ]
     },
     "execution_count": 14,
     "metadata": {},
     "output_type": "execute_result"
    }
   ],
   "source": [
    "pizza_data = \"../Pizza_Data/8358_1.csv\"\n",
    "\n",
    "pizza_df=pd.read_csv(pizza_data)\n",
    "\n",
    "pizza_df[\"menus.description\"].unique()"
   ]
  },
  {
   "cell_type": "code",
   "execution_count": 27,
   "metadata": {},
   "outputs": [
    {
     "data": {
      "text/plain": [
       "16.00    73\n",
       "12.00    71\n",
       "11.99    65\n",
       "10.00    63\n",
       "14.00    62\n",
       "9.00     60\n",
       "7.99     57\n",
       "12.95    56\n",
       "15.00    54\n",
       "8.99     52\n",
       "Name: menus.amountMax, dtype: int64"
      ]
     },
     "execution_count": 27,
     "metadata": {},
     "output_type": "execute_result"
    }
   ],
   "source": [
    "pizza_df['menus.amountMax'].value_counts().head(10)"
   ]
  },
  {
   "cell_type": "code",
   "execution_count": 26,
   "metadata": {},
   "outputs": [
    {
     "data": {
      "text/plain": [
       "12.00    76\n",
       "16.00    70\n",
       "10.00    67\n",
       "7.99     66\n",
       "11.99    65\n",
       "14.00    62\n",
       "9.00     62\n",
       "12.95    62\n",
       "13.00    52\n",
       "8.99     52\n",
       "Name: menus.amountMin, dtype: int64"
      ]
     },
     "execution_count": 26,
     "metadata": {},
     "output_type": "execute_result"
    }
   ],
   "source": [
    "pizza_df['menus.amountMin'].value_counts().head(10)"
   ]
  },
  {
   "cell_type": "code",
   "execution_count": 6,
   "metadata": {},
   "outputs": [
    {
     "data": {
      "text/plain": [
       "id                     object\n",
       "address                object\n",
       "categories             object\n",
       "city                   object\n",
       "country                object\n",
       "keys                   object\n",
       "latitude              float64\n",
       "longitude             float64\n",
       "menuPageURL            object\n",
       "menus.amountMax       float64\n",
       "menus.amountMin       float64\n",
       "menus.currency         object\n",
       "menus.dateSeen         object\n",
       "menus.description      object\n",
       "menus.name             object\n",
       "name                   object\n",
       "postalCode             object\n",
       "priceRangeCurrency     object\n",
       "priceRangeMin         float64\n",
       "priceRangeMax         float64\n",
       "province               object\n",
       "dtype: object"
      ]
     },
     "execution_count": 6,
     "metadata": {},
     "output_type": "execute_result"
    }
   ],
   "source": [
    "pizza_df.dtypes"
   ]
  },
  {
   "cell_type": "code",
   "execution_count": null,
   "metadata": {},
   "outputs": [],
   "source": []
  }
 ],
 "metadata": {
  "kernelspec": {
   "display_name": "Python 3",
   "language": "python",
   "name": "python3"
  },
  "language_info": {
   "codemirror_mode": {
    "name": "ipython",
    "version": 3
   },
   "file_extension": ".py",
   "mimetype": "text/x-python",
   "name": "python",
   "nbconvert_exporter": "python",
   "pygments_lexer": "ipython3",
   "version": "3.6.5"
  }
 },
 "nbformat": 4,
 "nbformat_minor": 2
}
